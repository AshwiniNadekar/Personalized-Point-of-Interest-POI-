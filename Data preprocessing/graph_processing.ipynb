{
 "cells": [
  {
   "cell_type": "code",
   "execution_count": 1,
   "id": "dda06bed",
   "metadata": {},
   "outputs": [],
   "source": [
    "import pandas as pd\n",
    "import numpy as np\n",
    "import os"
   ]
  },
  {
   "cell_type": "code",
   "execution_count": 42,
   "id": "ab084337",
   "metadata": {},
   "outputs": [],
   "source": [
    "checkin_data=pd.read_csv(os.path.join(\"../Dataset\",\"Gowalla_cleanCheckins_filtered.csv\"))\n",
    "unique_users=checkin_data['user'].unique()\n",
    "actual_users_in_data={user:1 for user in unique_users}"
   ]
  },
  {
   "cell_type": "code",
   "execution_count": 3,
   "id": "2fbd7195",
   "metadata": {},
   "outputs": [],
   "source": [
    "friends_adjaency_matrix={}\n",
    "with open(os.path.join('../Dataset', 'Gowalla_edges.txt'), 'r') as file:\n",
    "\n",
    "    relationships=file.readlines()\n",
    "    for relation in relationships[1:]:\n",
    "        \n",
    "        index=int(relation.strip(\"\\n\").split('\\t')[0])\n",
    "        friends=int(relation.strip(\"\\n\").split('\\t')[1])\n",
    "        if actual_users_in_data.get(index,None) is None or actual_users_in_data.get(friends,None) is None:\n",
    "            continue\n",
    "\n",
    "        if friends_adjaency_matrix.get(index,None) is None :\n",
    "            friends_adjaency_matrix[index]=[]\n",
    "\n",
    "        friends_adjaency_matrix[index].append(friends)"
   ]
  },
  {
   "cell_type": "code",
   "execution_count": 52,
   "id": "2ee5c7d6",
   "metadata": {},
   "outputs": [],
   "source": [
    "user_location_grouped = (\n",
    "    checkin_data.groupby(['user'])['location id']\n",
    "    .apply(set)\n",
    "    .to_dict()\n",
    ")"
   ]
  },
  {
   "cell_type": "code",
   "execution_count": 55,
   "id": "925ab58d",
   "metadata": {},
   "outputs": [],
   "source": [
    "def common_locations(u,v):\n",
    "    total_common_locations=len(user_location_grouped[u] & user_location_grouped[v])    \n",
    "    if total_common_locations == 0:\n",
    "        return 1\n",
    "    return total_common_locations\n",
    "\n"
   ]
  },
  {
   "cell_type": "code",
   "execution_count": 56,
   "id": "e3288e12",
   "metadata": {},
   "outputs": [],
   "source": [
    "friends_adjaency_matrix_with_edges={}\n",
    "\n",
    "for keys in friends_adjaency_matrix.keys():\n",
    "    friends_adjaency_matrix_with_edges[keys]=[]\n",
    "    for friend in friends_adjaency_matrix[keys]:\n",
    "            friends_adjaency_matrix_with_edges[keys].append((friend,common_locations(keys,friend)))"
   ]
  },
  {
   "cell_type": "code",
   "execution_count": null,
   "id": "d88d6b73",
   "metadata": {},
   "outputs": [
    {
     "ename": "",
     "evalue": "",
     "output_type": "error",
     "traceback": [
      "\u001b[1;31mThe Kernel crashed while executing code in the current cell or a previous cell. \n",
      "\u001b[1;31mPlease review the code in the cell(s) to identify a possible cause of the failure. \n",
      "\u001b[1;31mClick <a href='https://aka.ms/vscodeJupyterKernelCrash'>here</a> for more info. \n",
      "\u001b[1;31mView Jupyter <a href='command:jupyter.viewOutput'>log</a> for further details."
     ]
    }
   ],
   "source": [
    "import json\n",
    "\n",
    "with open(os.path.join('../Dataset','friends_adjacency_with_edge_weight.json'),'w') as f:\n",
    "    json.dump(friends_adjaency_matrix_with_edges,f)\n"
   ]
  },
  {
   "cell_type": "markdown",
   "id": "22ad06af",
   "metadata": {},
   "source": []
  }
 ],
 "metadata": {
  "kernelspec": {
   "display_name": "env",
   "language": "python",
   "name": "python3"
  },
  "language_info": {
   "codemirror_mode": {
    "name": "ipython",
    "version": 3
   },
   "file_extension": ".py",
   "mimetype": "text/x-python",
   "name": "python",
   "nbconvert_exporter": "python",
   "pygments_lexer": "ipython3",
   "version": "3.11.3"
  }
 },
 "nbformat": 4,
 "nbformat_minor": 5
}
